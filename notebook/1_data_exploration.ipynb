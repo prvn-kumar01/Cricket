{
 "cells": [
  {
   "cell_type": "markdown",
   "id": "5d054466",
   "metadata": {},
   "source": [
    "THIS NOTEBOOK IS FOR EDA ON DATA 1 "
   ]
  },
  {
   "cell_type": "code",
   "execution_count": 2,
   "id": "dc8bb7df",
   "metadata": {},
   "outputs": [],
   "source": [
    "import pandas as pd\n",
    "import numpy as np\n",
    "import matplotlib.pyplot as plt\n",
    "import seaborn as sns"
   ]
  },
  {
   "cell_type": "code",
   "execution_count": 3,
   "id": "ac6ab8d6",
   "metadata": {},
   "outputs": [],
   "source": [
    "df = pd.read_csv('C:/Praveen/DS Projects/CrickSight/data/raw/IPLPlayerAuctionData.csv')"
   ]
  },
  {
   "cell_type": "code",
   "execution_count": 4,
   "id": "05df82be",
   "metadata": {},
   "outputs": [
    {
     "data": {
      "text/html": [
       "<div>\n",
       "<style scoped>\n",
       "    .dataframe tbody tr th:only-of-type {\n",
       "        vertical-align: middle;\n",
       "    }\n",
       "\n",
       "    .dataframe tbody tr th {\n",
       "        vertical-align: top;\n",
       "    }\n",
       "\n",
       "    .dataframe thead th {\n",
       "        text-align: right;\n",
       "    }\n",
       "</style>\n",
       "<table border=\"1\" class=\"dataframe\">\n",
       "  <thead>\n",
       "    <tr style=\"text-align: right;\">\n",
       "      <th></th>\n",
       "      <th>Player</th>\n",
       "      <th>Role</th>\n",
       "      <th>Amount</th>\n",
       "      <th>Team</th>\n",
       "      <th>Year</th>\n",
       "      <th>Player Origin</th>\n",
       "    </tr>\n",
       "  </thead>\n",
       "  <tbody>\n",
       "    <tr>\n",
       "      <th>0</th>\n",
       "      <td>Aaron Finch</td>\n",
       "      <td>Batsman</td>\n",
       "      <td>40000000</td>\n",
       "      <td>Sunrisers Hyderabad</td>\n",
       "      <td>2014.0</td>\n",
       "      <td>Overseas</td>\n",
       "    </tr>\n",
       "    <tr>\n",
       "      <th>1</th>\n",
       "      <td>Aaron Finch</td>\n",
       "      <td>Batsman</td>\n",
       "      <td>32000000</td>\n",
       "      <td>Mumbai Indians</td>\n",
       "      <td>2015.0</td>\n",
       "      <td>Overseas</td>\n",
       "    </tr>\n",
       "    <tr>\n",
       "      <th>2</th>\n",
       "      <td>Aaron Finch</td>\n",
       "      <td>Batsman</td>\n",
       "      <td>10000000</td>\n",
       "      <td>Gujarat Lions</td>\n",
       "      <td>2016.0</td>\n",
       "      <td>Overseas</td>\n",
       "    </tr>\n",
       "    <tr>\n",
       "      <th>3</th>\n",
       "      <td>Aaron Finch</td>\n",
       "      <td>Batsman</td>\n",
       "      <td>62000000</td>\n",
       "      <td>Kings XI Punjab</td>\n",
       "      <td>2018.0</td>\n",
       "      <td>Overseas</td>\n",
       "    </tr>\n",
       "    <tr>\n",
       "      <th>4</th>\n",
       "      <td>Aaron Finch</td>\n",
       "      <td>Batsman</td>\n",
       "      <td>44000000</td>\n",
       "      <td>Royal Challengers Bangalore</td>\n",
       "      <td>2020.0</td>\n",
       "      <td>Overseas</td>\n",
       "    </tr>\n",
       "  </tbody>\n",
       "</table>\n",
       "</div>"
      ],
      "text/plain": [
       "        Player     Role    Amount                         Team    Year  \\\n",
       "0  Aaron Finch  Batsman  40000000          Sunrisers Hyderabad  2014.0   \n",
       "1  Aaron Finch  Batsman  32000000               Mumbai Indians  2015.0   \n",
       "2  Aaron Finch  Batsman  10000000                Gujarat Lions  2016.0   \n",
       "3  Aaron Finch  Batsman  62000000              Kings XI Punjab  2018.0   \n",
       "4  Aaron Finch  Batsman  44000000  Royal Challengers Bangalore  2020.0   \n",
       "\n",
       "  Player Origin  \n",
       "0      Overseas  \n",
       "1      Overseas  \n",
       "2      Overseas  \n",
       "3      Overseas  \n",
       "4      Overseas  "
      ]
     },
     "execution_count": 4,
     "metadata": {},
     "output_type": "execute_result"
    }
   ],
   "source": [
    "df.head()"
   ]
  },
  {
   "cell_type": "code",
   "execution_count": 5,
   "id": "cf20fcee",
   "metadata": {},
   "outputs": [
    {
     "data": {
      "text/html": [
       "<div>\n",
       "<style scoped>\n",
       "    .dataframe tbody tr th:only-of-type {\n",
       "        vertical-align: middle;\n",
       "    }\n",
       "\n",
       "    .dataframe tbody tr th {\n",
       "        vertical-align: top;\n",
       "    }\n",
       "\n",
       "    .dataframe thead th {\n",
       "        text-align: right;\n",
       "    }\n",
       "</style>\n",
       "<table border=\"1\" class=\"dataframe\">\n",
       "  <thead>\n",
       "    <tr style=\"text-align: right;\">\n",
       "      <th></th>\n",
       "      <th>Player</th>\n",
       "      <th>Role</th>\n",
       "      <th>Amount</th>\n",
       "      <th>Team</th>\n",
       "      <th>Year</th>\n",
       "      <th>Player Origin</th>\n",
       "    </tr>\n",
       "  </thead>\n",
       "  <tbody>\n",
       "    <tr>\n",
       "      <th>965</th>\n",
       "      <td>Yuzvendra Singh Chahal</td>\n",
       "      <td>Bowler</td>\n",
       "      <td>1000000</td>\n",
       "      <td>Royal Challengers Bangalore</td>\n",
       "      <td>2014.0</td>\n",
       "      <td>Indian</td>\n",
       "    </tr>\n",
       "    <tr>\n",
       "      <th>966</th>\n",
       "      <td>Yuzvendra Singh Chahal</td>\n",
       "      <td>Bowler</td>\n",
       "      <td>60000000</td>\n",
       "      <td>Royal Challengers Bangalore</td>\n",
       "      <td>2018.0</td>\n",
       "      <td>Indian</td>\n",
       "    </tr>\n",
       "    <tr>\n",
       "      <th>967</th>\n",
       "      <td>Zaheer Khan</td>\n",
       "      <td>Bowler</td>\n",
       "      <td>26000000</td>\n",
       "      <td>Mumbai Indians</td>\n",
       "      <td>2014.0</td>\n",
       "      <td>Indian</td>\n",
       "    </tr>\n",
       "    <tr>\n",
       "      <th>968</th>\n",
       "      <td>Zaheer Khan</td>\n",
       "      <td>Bowler</td>\n",
       "      <td>40000000</td>\n",
       "      <td>Delhi Daredevils</td>\n",
       "      <td>2015.0</td>\n",
       "      <td>Indian</td>\n",
       "    </tr>\n",
       "    <tr>\n",
       "      <th>969</th>\n",
       "      <td>Zahir Khan Pakteen</td>\n",
       "      <td>Bowler</td>\n",
       "      <td>6000000</td>\n",
       "      <td>Rajasthan Royals</td>\n",
       "      <td>2018.0</td>\n",
       "      <td>Indian</td>\n",
       "    </tr>\n",
       "  </tbody>\n",
       "</table>\n",
       "</div>"
      ],
      "text/plain": [
       "                     Player    Role    Amount                         Team  \\\n",
       "965  Yuzvendra Singh Chahal  Bowler   1000000  Royal Challengers Bangalore   \n",
       "966  Yuzvendra Singh Chahal  Bowler  60000000  Royal Challengers Bangalore   \n",
       "967             Zaheer Khan  Bowler  26000000               Mumbai Indians   \n",
       "968             Zaheer Khan  Bowler  40000000             Delhi Daredevils   \n",
       "969      Zahir Khan Pakteen  Bowler   6000000             Rajasthan Royals   \n",
       "\n",
       "       Year Player Origin  \n",
       "965  2014.0        Indian  \n",
       "966  2018.0        Indian  \n",
       "967  2014.0        Indian  \n",
       "968  2015.0        Indian  \n",
       "969  2018.0        Indian  "
      ]
     },
     "execution_count": 5,
     "metadata": {},
     "output_type": "execute_result"
    }
   ],
   "source": [
    "df.tail()"
   ]
  },
  {
   "cell_type": "code",
   "execution_count": 6,
   "id": "f7d135eb",
   "metadata": {},
   "outputs": [
    {
     "data": {
      "text/html": [
       "<div>\n",
       "<style scoped>\n",
       "    .dataframe tbody tr th:only-of-type {\n",
       "        vertical-align: middle;\n",
       "    }\n",
       "\n",
       "    .dataframe tbody tr th {\n",
       "        vertical-align: top;\n",
       "    }\n",
       "\n",
       "    .dataframe thead th {\n",
       "        text-align: right;\n",
       "    }\n",
       "</style>\n",
       "<table border=\"1\" class=\"dataframe\">\n",
       "  <thead>\n",
       "    <tr style=\"text-align: right;\">\n",
       "      <th></th>\n",
       "      <th>Amount</th>\n",
       "      <th>Year</th>\n",
       "    </tr>\n",
       "  </thead>\n",
       "  <tbody>\n",
       "    <tr>\n",
       "      <th>count</th>\n",
       "      <td>9.700000e+02</td>\n",
       "      <td>969.000000</td>\n",
       "    </tr>\n",
       "    <tr>\n",
       "      <th>mean</th>\n",
       "      <td>2.105451e+07</td>\n",
       "      <td>2017.910217</td>\n",
       "    </tr>\n",
       "    <tr>\n",
       "      <th>std</th>\n",
       "      <td>2.800091e+07</td>\n",
       "      <td>2.964527</td>\n",
       "    </tr>\n",
       "    <tr>\n",
       "      <th>min</th>\n",
       "      <td>1.000000e+06</td>\n",
       "      <td>2013.000000</td>\n",
       "    </tr>\n",
       "    <tr>\n",
       "      <th>25%</th>\n",
       "      <td>2.000000e+06</td>\n",
       "      <td>2015.000000</td>\n",
       "    </tr>\n",
       "    <tr>\n",
       "      <th>50%</th>\n",
       "      <td>9.500000e+06</td>\n",
       "      <td>2018.000000</td>\n",
       "    </tr>\n",
       "    <tr>\n",
       "      <th>75%</th>\n",
       "      <td>3.000000e+07</td>\n",
       "      <td>2021.000000</td>\n",
       "    </tr>\n",
       "    <tr>\n",
       "      <th>max</th>\n",
       "      <td>1.625000e+08</td>\n",
       "      <td>2022.000000</td>\n",
       "    </tr>\n",
       "  </tbody>\n",
       "</table>\n",
       "</div>"
      ],
      "text/plain": [
       "             Amount         Year\n",
       "count  9.700000e+02   969.000000\n",
       "mean   2.105451e+07  2017.910217\n",
       "std    2.800091e+07     2.964527\n",
       "min    1.000000e+06  2013.000000\n",
       "25%    2.000000e+06  2015.000000\n",
       "50%    9.500000e+06  2018.000000\n",
       "75%    3.000000e+07  2021.000000\n",
       "max    1.625000e+08  2022.000000"
      ]
     },
     "execution_count": 6,
     "metadata": {},
     "output_type": "execute_result"
    }
   ],
   "source": [
    "df.describe()"
   ]
  },
  {
   "cell_type": "code",
   "execution_count": 7,
   "id": "83c8f825",
   "metadata": {},
   "outputs": [
    {
     "data": {
      "text/plain": [
       "Player           0\n",
       "Role             0\n",
       "Amount           0\n",
       "Team             0\n",
       "Year             1\n",
       "Player Origin    0\n",
       "dtype: int64"
      ]
     },
     "execution_count": 7,
     "metadata": {},
     "output_type": "execute_result"
    }
   ],
   "source": [
    "df.isnull().sum()"
   ]
  },
  {
   "cell_type": "code",
   "execution_count": 8,
   "id": "c5f24f60",
   "metadata": {},
   "outputs": [],
   "source": [
    "df.dropna(subset=['Year'], inplace=True)"
   ]
  },
  {
   "cell_type": "code",
   "execution_count": 9,
   "id": "ccb9df94",
   "metadata": {},
   "outputs": [],
   "source": [
    "df['Year'] = df['Year'].astype(int)"
   ]
  },
  {
   "cell_type": "code",
   "execution_count": 10,
   "id": "52f21091",
   "metadata": {},
   "outputs": [
    {
     "data": {
      "text/html": [
       "<div>\n",
       "<style scoped>\n",
       "    .dataframe tbody tr th:only-of-type {\n",
       "        vertical-align: middle;\n",
       "    }\n",
       "\n",
       "    .dataframe tbody tr th {\n",
       "        vertical-align: top;\n",
       "    }\n",
       "\n",
       "    .dataframe thead th {\n",
       "        text-align: right;\n",
       "    }\n",
       "</style>\n",
       "<table border=\"1\" class=\"dataframe\">\n",
       "  <thead>\n",
       "    <tr style=\"text-align: right;\">\n",
       "      <th></th>\n",
       "      <th>Player</th>\n",
       "      <th>Role</th>\n",
       "      <th>Amount</th>\n",
       "      <th>Team</th>\n",
       "      <th>Year</th>\n",
       "      <th>Player Origin</th>\n",
       "    </tr>\n",
       "  </thead>\n",
       "  <tbody>\n",
       "    <tr>\n",
       "      <th>0</th>\n",
       "      <td>Aaron Finch</td>\n",
       "      <td>Batsman</td>\n",
       "      <td>40000000</td>\n",
       "      <td>Sunrisers Hyderabad</td>\n",
       "      <td>2014</td>\n",
       "      <td>Overseas</td>\n",
       "    </tr>\n",
       "    <tr>\n",
       "      <th>1</th>\n",
       "      <td>Aaron Finch</td>\n",
       "      <td>Batsman</td>\n",
       "      <td>32000000</td>\n",
       "      <td>Mumbai Indians</td>\n",
       "      <td>2015</td>\n",
       "      <td>Overseas</td>\n",
       "    </tr>\n",
       "    <tr>\n",
       "      <th>2</th>\n",
       "      <td>Aaron Finch</td>\n",
       "      <td>Batsman</td>\n",
       "      <td>10000000</td>\n",
       "      <td>Gujarat Lions</td>\n",
       "      <td>2016</td>\n",
       "      <td>Overseas</td>\n",
       "    </tr>\n",
       "    <tr>\n",
       "      <th>3</th>\n",
       "      <td>Aaron Finch</td>\n",
       "      <td>Batsman</td>\n",
       "      <td>62000000</td>\n",
       "      <td>Kings XI Punjab</td>\n",
       "      <td>2018</td>\n",
       "      <td>Overseas</td>\n",
       "    </tr>\n",
       "    <tr>\n",
       "      <th>4</th>\n",
       "      <td>Aaron Finch</td>\n",
       "      <td>Batsman</td>\n",
       "      <td>44000000</td>\n",
       "      <td>Royal Challengers Bangalore</td>\n",
       "      <td>2020</td>\n",
       "      <td>Overseas</td>\n",
       "    </tr>\n",
       "  </tbody>\n",
       "</table>\n",
       "</div>"
      ],
      "text/plain": [
       "        Player     Role    Amount                         Team  Year  \\\n",
       "0  Aaron Finch  Batsman  40000000          Sunrisers Hyderabad  2014   \n",
       "1  Aaron Finch  Batsman  32000000               Mumbai Indians  2015   \n",
       "2  Aaron Finch  Batsman  10000000                Gujarat Lions  2016   \n",
       "3  Aaron Finch  Batsman  62000000              Kings XI Punjab  2018   \n",
       "4  Aaron Finch  Batsman  44000000  Royal Challengers Bangalore  2020   \n",
       "\n",
       "  Player Origin  \n",
       "0      Overseas  \n",
       "1      Overseas  \n",
       "2      Overseas  \n",
       "3      Overseas  \n",
       "4      Overseas  "
      ]
     },
     "execution_count": 10,
     "metadata": {},
     "output_type": "execute_result"
    }
   ],
   "source": [
    "df.head()"
   ]
  },
  {
   "cell_type": "code",
   "execution_count": 11,
   "id": "a0657d45",
   "metadata": {},
   "outputs": [
    {
     "data": {
      "text/plain": [
       "np.int64(0)"
      ]
     },
     "execution_count": 11,
     "metadata": {},
     "output_type": "execute_result"
    }
   ],
   "source": [
    "df.duplicated().sum()"
   ]
  },
  {
   "cell_type": "code",
   "execution_count": 12,
   "id": "3d27b742",
   "metadata": {},
   "outputs": [
    {
     "name": "stdout",
     "output_type": "stream",
     "text": [
      "--- PRICE Column Analysis ---\n",
      "PRICE column data type: int64\n",
      "0    40000000\n",
      "1    32000000\n",
      "2    10000000\n",
      "3    62000000\n",
      "4    44000000\n",
      "Name: Amount, dtype: int64\n",
      "------------------------------\n"
     ]
    }
   ],
   "source": [
    "\n",
    "print(\"--- PRICE Column Analysis ---\")\n",
    "print(f\"PRICE column data type: {df['Amount'].dtype}\")\n",
    "print(df['Amount'].head())\n",
    "print(\"-\" * 30)"
   ]
  },
  {
   "cell_type": "code",
   "execution_count": 13,
   "id": "c809eef8",
   "metadata": {},
   "outputs": [
    {
     "name": "stdout",
     "output_type": "stream",
     "text": [
      "\n",
      "--- ROLE Column Analysis ---\n",
      "Player's all unique roles:\n",
      "['Batsman' 'All-Rounder' 'Bowler' 'Wicket Keeper']\n",
      "------------------------------\n"
     ]
    }
   ],
   "source": [
    "print(\"\\n--- ROLE Column Analysis ---\")\n",
    "print(\"Player's all unique roles:\")\n",
    "print(df['Role'].unique())\n",
    "print(\"-\" * 30)"
   ]
  },
  {
   "cell_type": "code",
   "execution_count": 14,
   "id": "5517bc6a",
   "metadata": {},
   "outputs": [
    {
     "name": "stdout",
     "output_type": "stream",
     "text": [
      "\n",
      "--- TEAM Column Analysis ---\n",
      "All unique team names:\n",
      "['Sunrisers Hyderabad' 'Mumbai Indians' 'Gujarat Lions' 'Kings XI Punjab'\n",
      " 'Royal Challengers Bangalore' 'Kolkata Knight Riders' 'Gujarat Titans'\n",
      " 'Pune Warriors India' 'Rajasthan Royals' 'Delhi Daredevils'\n",
      " 'Chennai Super Kings' 'Rising Pune Supergiant' 'Delhi Capitals'\n",
      " 'Lucknow Super Giants' 'Punjab Kings']\n",
      "------------------------------\n"
     ]
    }
   ],
   "source": [
    "print(\"\\n--- TEAM Column Analysis ---\")\n",
    "print(\"All unique team names:\")\n",
    "print(df['Team'].unique())\n",
    "print(\"-\" * 30)"
   ]
  },
  {
   "cell_type": "code",
   "execution_count": 15,
   "id": "d2dfd85f",
   "metadata": {},
   "outputs": [],
   "source": [
    "# Correction in Teams name \n",
    "team_corrections = {\n",
    "    'Kings XI Punjab': 'Punjab Kings',\n",
    "    'Delhi Daredevils': 'Delhi Capitals'\n",
    "}"
   ]
  },
  {
   "cell_type": "code",
   "execution_count": 16,
   "id": "3724751a",
   "metadata": {},
   "outputs": [
    {
     "name": "stdout",
     "output_type": "stream",
     "text": [
      "Standardized Team Names:\n",
      "['Sunrisers Hyderabad' 'Mumbai Indians' 'Gujarat Lions' 'Punjab Kings'\n",
      " 'Royal Challengers Bangalore' 'Kolkata Knight Riders' 'Gujarat Titans'\n",
      " 'Pune Warriors India' 'Rajasthan Royals' 'Delhi Capitals'\n",
      " 'Chennai Super Kings' 'Rising Pune Supergiant' 'Lucknow Super Giants']\n"
     ]
    }
   ],
   "source": [
    "df['Team'] = df['Team'].replace(team_corrections)\n",
    "\n",
    "\n",
    "print(\"Standardized Team Names:\")\n",
    "print(df['Team'].unique())"
   ]
  },
  {
   "cell_type": "code",
   "execution_count": 17,
   "id": "b4821512",
   "metadata": {},
   "outputs": [],
   "source": [
    "# one hot encoding for 'Role' and 'Team' columns\n",
    "# Role, Team, aur Country teeno columns ko numbers mein badal do\n",
    "df_encoded = pd.get_dummies(df, columns=['Role', 'Team', 'Player Origin'])"
   ]
  },
  {
   "cell_type": "code",
   "execution_count": 18,
   "id": "3288f0e2",
   "metadata": {},
   "outputs": [
    {
     "data": {
      "text/html": [
       "<div>\n",
       "<style scoped>\n",
       "    .dataframe tbody tr th:only-of-type {\n",
       "        vertical-align: middle;\n",
       "    }\n",
       "\n",
       "    .dataframe tbody tr th {\n",
       "        vertical-align: top;\n",
       "    }\n",
       "\n",
       "    .dataframe thead th {\n",
       "        text-align: right;\n",
       "    }\n",
       "</style>\n",
       "<table border=\"1\" class=\"dataframe\">\n",
       "  <thead>\n",
       "    <tr style=\"text-align: right;\">\n",
       "      <th></th>\n",
       "      <th>Player</th>\n",
       "      <th>Amount</th>\n",
       "      <th>Year</th>\n",
       "      <th>Role_All-Rounder</th>\n",
       "      <th>Role_Batsman</th>\n",
       "      <th>Role_Bowler</th>\n",
       "      <th>Role_Wicket Keeper</th>\n",
       "      <th>Team_Chennai Super Kings</th>\n",
       "      <th>Team_Delhi Capitals</th>\n",
       "      <th>Team_Gujarat Lions</th>\n",
       "      <th>...</th>\n",
       "      <th>Team_Lucknow Super Giants</th>\n",
       "      <th>Team_Mumbai Indians</th>\n",
       "      <th>Team_Pune Warriors India</th>\n",
       "      <th>Team_Punjab Kings</th>\n",
       "      <th>Team_Rajasthan Royals</th>\n",
       "      <th>Team_Rising Pune Supergiant</th>\n",
       "      <th>Team_Royal Challengers Bangalore</th>\n",
       "      <th>Team_Sunrisers Hyderabad</th>\n",
       "      <th>Player Origin_Indian</th>\n",
       "      <th>Player Origin_Overseas</th>\n",
       "    </tr>\n",
       "  </thead>\n",
       "  <tbody>\n",
       "    <tr>\n",
       "      <th>0</th>\n",
       "      <td>Aaron Finch</td>\n",
       "      <td>40000000</td>\n",
       "      <td>2014</td>\n",
       "      <td>False</td>\n",
       "      <td>True</td>\n",
       "      <td>False</td>\n",
       "      <td>False</td>\n",
       "      <td>False</td>\n",
       "      <td>False</td>\n",
       "      <td>False</td>\n",
       "      <td>...</td>\n",
       "      <td>False</td>\n",
       "      <td>False</td>\n",
       "      <td>False</td>\n",
       "      <td>False</td>\n",
       "      <td>False</td>\n",
       "      <td>False</td>\n",
       "      <td>False</td>\n",
       "      <td>True</td>\n",
       "      <td>False</td>\n",
       "      <td>True</td>\n",
       "    </tr>\n",
       "    <tr>\n",
       "      <th>1</th>\n",
       "      <td>Aaron Finch</td>\n",
       "      <td>32000000</td>\n",
       "      <td>2015</td>\n",
       "      <td>False</td>\n",
       "      <td>True</td>\n",
       "      <td>False</td>\n",
       "      <td>False</td>\n",
       "      <td>False</td>\n",
       "      <td>False</td>\n",
       "      <td>False</td>\n",
       "      <td>...</td>\n",
       "      <td>False</td>\n",
       "      <td>True</td>\n",
       "      <td>False</td>\n",
       "      <td>False</td>\n",
       "      <td>False</td>\n",
       "      <td>False</td>\n",
       "      <td>False</td>\n",
       "      <td>False</td>\n",
       "      <td>False</td>\n",
       "      <td>True</td>\n",
       "    </tr>\n",
       "    <tr>\n",
       "      <th>2</th>\n",
       "      <td>Aaron Finch</td>\n",
       "      <td>10000000</td>\n",
       "      <td>2016</td>\n",
       "      <td>False</td>\n",
       "      <td>True</td>\n",
       "      <td>False</td>\n",
       "      <td>False</td>\n",
       "      <td>False</td>\n",
       "      <td>False</td>\n",
       "      <td>True</td>\n",
       "      <td>...</td>\n",
       "      <td>False</td>\n",
       "      <td>False</td>\n",
       "      <td>False</td>\n",
       "      <td>False</td>\n",
       "      <td>False</td>\n",
       "      <td>False</td>\n",
       "      <td>False</td>\n",
       "      <td>False</td>\n",
       "      <td>False</td>\n",
       "      <td>True</td>\n",
       "    </tr>\n",
       "    <tr>\n",
       "      <th>3</th>\n",
       "      <td>Aaron Finch</td>\n",
       "      <td>62000000</td>\n",
       "      <td>2018</td>\n",
       "      <td>False</td>\n",
       "      <td>True</td>\n",
       "      <td>False</td>\n",
       "      <td>False</td>\n",
       "      <td>False</td>\n",
       "      <td>False</td>\n",
       "      <td>False</td>\n",
       "      <td>...</td>\n",
       "      <td>False</td>\n",
       "      <td>False</td>\n",
       "      <td>False</td>\n",
       "      <td>True</td>\n",
       "      <td>False</td>\n",
       "      <td>False</td>\n",
       "      <td>False</td>\n",
       "      <td>False</td>\n",
       "      <td>False</td>\n",
       "      <td>True</td>\n",
       "    </tr>\n",
       "    <tr>\n",
       "      <th>4</th>\n",
       "      <td>Aaron Finch</td>\n",
       "      <td>44000000</td>\n",
       "      <td>2020</td>\n",
       "      <td>False</td>\n",
       "      <td>True</td>\n",
       "      <td>False</td>\n",
       "      <td>False</td>\n",
       "      <td>False</td>\n",
       "      <td>False</td>\n",
       "      <td>False</td>\n",
       "      <td>...</td>\n",
       "      <td>False</td>\n",
       "      <td>False</td>\n",
       "      <td>False</td>\n",
       "      <td>False</td>\n",
       "      <td>False</td>\n",
       "      <td>False</td>\n",
       "      <td>True</td>\n",
       "      <td>False</td>\n",
       "      <td>False</td>\n",
       "      <td>True</td>\n",
       "    </tr>\n",
       "  </tbody>\n",
       "</table>\n",
       "<p>5 rows × 22 columns</p>\n",
       "</div>"
      ],
      "text/plain": [
       "        Player    Amount  Year  Role_All-Rounder  Role_Batsman  Role_Bowler  \\\n",
       "0  Aaron Finch  40000000  2014             False          True        False   \n",
       "1  Aaron Finch  32000000  2015             False          True        False   \n",
       "2  Aaron Finch  10000000  2016             False          True        False   \n",
       "3  Aaron Finch  62000000  2018             False          True        False   \n",
       "4  Aaron Finch  44000000  2020             False          True        False   \n",
       "\n",
       "   Role_Wicket Keeper  Team_Chennai Super Kings  Team_Delhi Capitals  \\\n",
       "0               False                     False                False   \n",
       "1               False                     False                False   \n",
       "2               False                     False                False   \n",
       "3               False                     False                False   \n",
       "4               False                     False                False   \n",
       "\n",
       "   Team_Gujarat Lions  ...  Team_Lucknow Super Giants  Team_Mumbai Indians  \\\n",
       "0               False  ...                      False                False   \n",
       "1               False  ...                      False                 True   \n",
       "2                True  ...                      False                False   \n",
       "3               False  ...                      False                False   \n",
       "4               False  ...                      False                False   \n",
       "\n",
       "   Team_Pune Warriors India  Team_Punjab Kings  Team_Rajasthan Royals  \\\n",
       "0                     False              False                  False   \n",
       "1                     False              False                  False   \n",
       "2                     False              False                  False   \n",
       "3                     False               True                  False   \n",
       "4                     False              False                  False   \n",
       "\n",
       "   Team_Rising Pune Supergiant  Team_Royal Challengers Bangalore  \\\n",
       "0                        False                             False   \n",
       "1                        False                             False   \n",
       "2                        False                             False   \n",
       "3                        False                             False   \n",
       "4                        False                              True   \n",
       "\n",
       "   Team_Sunrisers Hyderabad  Player Origin_Indian  Player Origin_Overseas  \n",
       "0                      True                 False                    True  \n",
       "1                     False                 False                    True  \n",
       "2                     False                 False                    True  \n",
       "3                     False                 False                    True  \n",
       "4                     False                 False                    True  \n",
       "\n",
       "[5 rows x 22 columns]"
      ]
     },
     "metadata": {},
     "output_type": "display_data"
    }
   ],
   "source": [
    "\n",
    "display(df_encoded.head())"
   ]
  },
  {
   "cell_type": "code",
   "execution_count": 19,
   "id": "cb97928d",
   "metadata": {},
   "outputs": [
    {
     "name": "stdout",
     "output_type": "stream",
     "text": [
      "Index(['Player', 'Amount', 'Year', 'Role_All-Rounder', 'Role_Batsman',\n",
      "       'Role_Bowler', 'Role_Wicket Keeper', 'Team_Chennai Super Kings',\n",
      "       'Team_Delhi Capitals', 'Team_Gujarat Lions', 'Team_Gujarat Titans',\n",
      "       'Team_Kolkata Knight Riders', 'Team_Lucknow Super Giants',\n",
      "       'Team_Mumbai Indians', 'Team_Pune Warriors India', 'Team_Punjab Kings',\n",
      "       'Team_Rajasthan Royals', 'Team_Rising Pune Supergiant',\n",
      "       'Team_Royal Challengers Bangalore', 'Team_Sunrisers Hyderabad',\n",
      "       'Player Origin_Indian', 'Player Origin_Overseas'],\n",
      "      dtype='object')\n"
     ]
    }
   ],
   "source": [
    "# New Columns \n",
    "print(df_encoded.columns)"
   ]
  },
  {
   "cell_type": "code",
   "execution_count": 20,
   "id": "de24f75b",
   "metadata": {},
   "outputs": [
    {
     "data": {
      "text/html": [
       "<div>\n",
       "<style scoped>\n",
       "    .dataframe tbody tr th:only-of-type {\n",
       "        vertical-align: middle;\n",
       "    }\n",
       "\n",
       "    .dataframe tbody tr th {\n",
       "        vertical-align: top;\n",
       "    }\n",
       "\n",
       "    .dataframe thead th {\n",
       "        text-align: right;\n",
       "    }\n",
       "</style>\n",
       "<table border=\"1\" class=\"dataframe\">\n",
       "  <thead>\n",
       "    <tr style=\"text-align: right;\">\n",
       "      <th></th>\n",
       "      <th>Player</th>\n",
       "      <th>Role</th>\n",
       "      <th>Amount</th>\n",
       "      <th>Team</th>\n",
       "      <th>Year</th>\n",
       "      <th>Player Origin</th>\n",
       "    </tr>\n",
       "  </thead>\n",
       "  <tbody>\n",
       "    <tr>\n",
       "      <th>0</th>\n",
       "      <td>Aaron Finch</td>\n",
       "      <td>Batsman</td>\n",
       "      <td>40000000</td>\n",
       "      <td>Sunrisers Hyderabad</td>\n",
       "      <td>2014</td>\n",
       "      <td>Overseas</td>\n",
       "    </tr>\n",
       "    <tr>\n",
       "      <th>1</th>\n",
       "      <td>Aaron Finch</td>\n",
       "      <td>Batsman</td>\n",
       "      <td>32000000</td>\n",
       "      <td>Mumbai Indians</td>\n",
       "      <td>2015</td>\n",
       "      <td>Overseas</td>\n",
       "    </tr>\n",
       "    <tr>\n",
       "      <th>2</th>\n",
       "      <td>Aaron Finch</td>\n",
       "      <td>Batsman</td>\n",
       "      <td>10000000</td>\n",
       "      <td>Gujarat Lions</td>\n",
       "      <td>2016</td>\n",
       "      <td>Overseas</td>\n",
       "    </tr>\n",
       "    <tr>\n",
       "      <th>3</th>\n",
       "      <td>Aaron Finch</td>\n",
       "      <td>Batsman</td>\n",
       "      <td>62000000</td>\n",
       "      <td>Punjab Kings</td>\n",
       "      <td>2018</td>\n",
       "      <td>Overseas</td>\n",
       "    </tr>\n",
       "    <tr>\n",
       "      <th>4</th>\n",
       "      <td>Aaron Finch</td>\n",
       "      <td>Batsman</td>\n",
       "      <td>44000000</td>\n",
       "      <td>Royal Challengers Bangalore</td>\n",
       "      <td>2020</td>\n",
       "      <td>Overseas</td>\n",
       "    </tr>\n",
       "  </tbody>\n",
       "</table>\n",
       "</div>"
      ],
      "text/plain": [
       "        Player     Role    Amount                         Team  Year  \\\n",
       "0  Aaron Finch  Batsman  40000000          Sunrisers Hyderabad  2014   \n",
       "1  Aaron Finch  Batsman  32000000               Mumbai Indians  2015   \n",
       "2  Aaron Finch  Batsman  10000000                Gujarat Lions  2016   \n",
       "3  Aaron Finch  Batsman  62000000                 Punjab Kings  2018   \n",
       "4  Aaron Finch  Batsman  44000000  Royal Challengers Bangalore  2020   \n",
       "\n",
       "  Player Origin  \n",
       "0      Overseas  \n",
       "1      Overseas  \n",
       "2      Overseas  \n",
       "3      Overseas  \n",
       "4      Overseas  "
      ]
     },
     "execution_count": 20,
     "metadata": {},
     "output_type": "execute_result"
    }
   ],
   "source": [
    "df.head()"
   ]
  },
  {
   "cell_type": "code",
   "execution_count": 21,
   "id": "b0b03bbc",
   "metadata": {},
   "outputs": [],
   "source": [
    "from sklearn.model_selection import train_test_split\n",
    "\n",
    "\n",
    "\n",
    "# Target (y) hai 'Amount' column\n",
    "y = df_encoded['Amount']\n",
    "\n",
    "# Features (X) mein 'Amount' aur 'PLAYER NAME' ke alawa sab kuch hoga\n",
    "# Player Name ka koi predictive power nahi hota, isliye use hata denge\n",
    "X = df_encoded.drop(columns=['Amount', 'Player'])"
   ]
  },
  {
   "cell_type": "code",
   "execution_count": 22,
   "id": "07574eb1",
   "metadata": {},
   "outputs": [],
   "source": [
    "X_train, X_test, y_train, y_test = train_test_split(X, y, test_size=0.2, random_state=42)\n"
   ]
  },
  {
   "cell_type": "code",
   "execution_count": 23,
   "id": "09cf8f00",
   "metadata": {},
   "outputs": [
    {
     "name": "stdout",
     "output_type": "stream",
     "text": [
      "Data splitting successful! ✅\n",
      "Rows in training data : 775\n",
      "Rows in test data : 194\n"
     ]
    }
   ],
   "source": [
    "print(\"Data splitting successful! ✅\")\n",
    "print(f\"Rows in training data : {X_train.shape[0]}\")\n",
    "print(f\"Rows in test data : {X_test.shape[0]}\")"
   ]
  },
  {
   "cell_type": "code",
   "execution_count": 24,
   "id": "75ebb21a",
   "metadata": {},
   "outputs": [
    {
     "name": "stdout",
     "output_type": "stream",
     "text": [
      "Text wale columns (dtype 'object'):\n",
      "Index([], dtype='object')\n"
     ]
    }
   ],
   "source": [
    "# Chaliye check karte hain ki X mein kaunse columns abhi bhi text hain\n",
    "print(\"Text wale columns (dtype 'object'):\")\n",
    "print(X.select_dtypes(include='object').columns)"
   ]
  },
  {
   "cell_type": "code",
   "execution_count": 25,
   "id": "8d80e3e3",
   "metadata": {},
   "outputs": [
    {
     "name": "stdout",
     "output_type": "stream",
     "text": [
      "Model training shuru ho gayi hai... ⏳\n",
      "Model training complete! ✅\n",
      "\n",
      "Model ka performance (Mean Absolute Error): 22,893,601.28 Rupees\n"
     ]
    }
   ],
   "source": [
    "from sklearn.ensemble import RandomForestRegressor\n",
    "from sklearn.metrics import mean_absolute_error\n",
    "\n",
    "# --- Step 1: Model Banana ---\n",
    "# Hum 100 experts (n_estimators=100) ki ek team bana rahe hain\n",
    "# random_state=42 ensures ki har baar result same aaye\n",
    "model = RandomForestRegressor(n_estimators=100, random_state=42, n_jobs=-1)\n",
    "\n",
    "\n",
    "# --- Step 2: Model ko Train Karna ---\n",
    "# Yeh hai \"padhai\" wala step. Model training data se patterns seekh raha hai.\n",
    "print(\"Model training shuru ho gayi hai... ⏳\")\n",
    "model.fit(X_train, y_train)\n",
    "print(\"Model training complete! ✅\")\n",
    "\n",
    "\n",
    "# --- Step 3: Model se Prediction Karwana (Final Exam) ---\n",
    "# Ab model anjaan test data (X_test) par predictions karega\n",
    "predictions = model.predict(X_test)\n",
    "\n",
    "\n",
    "# --- Step 4: Model ki Performance Check Karna ---\n",
    "# Hum dekhenge ki model ki predictions asli price se average kitna door hain\n",
    "# Iske liye hum 'Mean Absolute Error' (MAE) ka istemaal karenge\n",
    "mae = mean_absolute_error(y_test, predictions)\n",
    "\n",
    "print(f\"\\nModel ka performance (Mean Absolute Error): {mae:,.2f} Rupees\")"
   ]
  },
  {
   "cell_type": "code",
   "execution_count": 26,
   "id": "64e728f9",
   "metadata": {},
   "outputs": [
    {
     "name": "stdout",
     "output_type": "stream",
     "text": [
      "XGBoost Model training shuru ho gayi hai... ⏳\n",
      "XGBoost Model training complete! ✅\n",
      "\n",
      "XGBoost Model ka performance (Mean Absolute Error): 22,067,434.00 Rupees\n"
     ]
    }
   ],
   "source": [
    "from xgboost import XGBRegressor\n",
    "from sklearn.metrics import mean_absolute_error\n",
    "\n",
    "\n",
    "xgb_model = XGBRegressor(n_estimators=100, learning_rate=0.1, random_state=42, n_jobs=-1)\n",
    "\n",
    "\n",
    "# --- Step 2: Model ko Train Karna ---\n",
    "print(\"XGBoost Model training shuru ho gayi hai... ⏳\")\n",
    "xgb_model.fit(X_train, y_train)\n",
    "print(\"XGBoost Model training complete! ✅\")\n",
    "\n",
    "\n",
    "# --- Step 3: Model se Prediction Karwana ---\n",
    "xgb_predictions = xgb_model.predict(X_test)\n",
    "\n",
    "\n",
    "\n",
    "xgb_mae = mean_absolute_error(y_test, xgb_predictions)\n",
    "\n",
    "print(f\"\\nXGBoost Model ka performance (Mean Absolute Error): {xgb_mae:,.2f} Rupees\")"
   ]
  },
  {
   "cell_type": "code",
   "execution_count": 27,
   "id": "28340af0",
   "metadata": {},
   "outputs": [
    {
     "name": "stdout",
     "output_type": "stream",
     "text": [
      "Model aur columns successfully 'xgb_model.pkl' aur 'model_columns.pkl' files mein save ho gaye hain!\n"
     ]
    }
   ],
   "source": [
    "import joblib\n",
    "\n",
    "# Hamare best model (XGBoost) ko ek file mein save karte hain\n",
    "joblib.dump(xgb_model, 'xgb_model.pkl')\n",
    "\n",
    "# Humein columns ka order bhi save karna hoga taaki app mein koi galti na ho\n",
    "joblib.dump(X.columns, 'model_columns.pkl')\n",
    "\n",
    "print(\"Model aur columns successfully 'xgb_model.pkl' aur 'model_columns.pkl' files mein save ho gaye hain!\")"
   ]
  },
  {
   "cell_type": "code",
   "execution_count": null,
   "id": "f5823b6b",
   "metadata": {},
   "outputs": [],
   "source": []
  }
 ],
 "metadata": {
  "kernelspec": {
   "display_name": "Python (cric)",
   "language": "python",
   "name": "cric"
  },
  "language_info": {
   "codemirror_mode": {
    "name": "ipython",
    "version": 3
   },
   "file_extension": ".py",
   "mimetype": "text/x-python",
   "name": "python",
   "nbconvert_exporter": "python",
   "pygments_lexer": "ipython3",
   "version": "3.13.2"
  }
 },
 "nbformat": 4,
 "nbformat_minor": 5
}
